{
 "cells": [
  {
   "cell_type": "code",
   "execution_count": null,
   "id": "b7c58e18-4828-427b-ba43-cc38f772b8c0",
   "metadata": {},
   "outputs": [],
   "source": [
    "# Enable Debugging\n",
    "\n",
    "%load_ext autoreload\n",
    "%autoreload 2"
   ]
  },
  {
   "cell_type": "code",
   "execution_count": null,
   "id": "4a3dbca5-8123-4d42-a62a-3cda3078061e",
   "metadata": {},
   "outputs": [],
   "source": [
    "#\n",
    "# Import the campaign diagram class\n",
    "#\n",
    "import sys\n",
    "import os\n",
    "\n",
    "sys.path.append(os.path.abspath(\"../../\"))\n",
    "from campaign_diagram import *\n"
   ]
  },
  {
   "cell_type": "code",
   "execution_count": null,
   "id": "c3392ad7-775e-44e9-8a3f-83920457c852",
   "metadata": {},
   "outputs": [],
   "source": [
    "# Example usage with multiple Kernel instances\n",
    "\n",
    "kernel1a = Kernel(name='EinsumA',\n",
    "                  start=0,\n",
    "                  duration=3,\n",
    "                  compute_util=0.7,\n",
    "                  bw_util=0.25)\n",
    "\n",
    "kernel1b = Kernel(name='EinsumB',\n",
    "                  start=kernel1a.end,\n",
    "                  duration=10,\n",
    "                  compute_util=0.2,\n",
    "                  bw_util=0.9)\n",
    "\n",
    "kernel1c = Kernel(name='EinsumC',\n",
    "                  start=kernel1b.end,\n",
    "                  duration=2,\n",
    "                  compute_util=0.6,\n",
    "                  bw_util=0.4)"
   ]
  },
  {
   "cell_type": "code",
   "execution_count": null,
   "id": "38d6fcea-0c8a-4c1f-a5a2-a646073b23b4",
   "metadata": {},
   "outputs": [],
   "source": [
    "# Create the plot with a list of kernel instances\n",
    "\n",
    "cascade1 = Cascade(name=\"Three Step Cascade\",\n",
    "                   kernels=[kernel1a, kernel1b, kernel1c])\n",
    "\n",
    "CampaignDiagram(cascade1).draw()"
   ]
  },
  {
   "cell_type": "code",
   "execution_count": null,
   "id": "ba95722e-9a4b-4ef6-9461-9d9066a7258d",
   "metadata": {},
   "outputs": [],
   "source": [
    "# Define kernels for pipeline example\n",
    "\n",
    "repeat = 4\n",
    "\n",
    "kernel2a = Kernel(name='EinsumA',\n",
    "                  start=0,\n",
    "                  duration=5,\n",
    "                  compute_util=0.8,\n",
    "                  bw_util=0.2)\n",
    "\n",
    "\n",
    "kernel2b = Kernel(name='EinsumB',\n",
    "                  start=kernel2a.end,\n",
    "                  duration=10,\n",
    "                  compute_util=0.2,\n",
    "                  bw_util=0.6)\n",
    "\n",
    "original_cascade = Cascade(name=\"Two-step Cascade\",\n",
    "                           kernels=[kernel2a, kernel2b])\n",
    "\n"
   ]
  },
  {
   "cell_type": "code",
   "execution_count": null,
   "id": "6d4081c0-fd04-411b-80ba-e8f59c028387",
   "metadata": {},
   "outputs": [],
   "source": [
    "CampaignDiagram(original_cascade).draw()"
   ]
  },
  {
   "cell_type": "code",
   "execution_count": null,
   "id": "981db0ed-1d07-4873-8946-9ce05081d5e3",
   "metadata": {},
   "outputs": [],
   "source": [
    "# Unpipelined processing\n",
    "\n",
    "tiled_cascade = original_cascade.tile(repeat)\n",
    "CampaignDiagram(tiled_cascade).draw()"
   ]
  },
  {
   "cell_type": "code",
   "execution_count": null,
   "id": "0c571136-d589-488c-8f15-ea4c8578d245",
   "metadata": {},
   "outputs": [],
   "source": [
    "# Pipelined diagram (undilated)\n",
    "\n",
    "pipelined_cascade = tiled_cascade.pipeline()\n",
    "\n",
    "CampaignDiagram(pipelined_cascade).draw()"
   ]
  },
  {
   "cell_type": "code",
   "execution_count": null,
   "id": "9cc0ba33-dd08-401b-afb2-f133bc800ba6",
   "metadata": {},
   "outputs": [],
   "source": [
    "# Pipelined diagram (dilated)\n",
    "\n",
    "pipelined_cascade2 = tiled_cascade.pipeline(spread=True)\n",
    "    \n",
    "CampaignDiagram(pipelined_cascade2).draw()"
   ]
  },
  {
   "cell_type": "code",
   "execution_count": null,
   "id": "804ce9e6-5c8d-450e-a19e-6735e64593c9",
   "metadata": {},
   "outputs": [],
   "source": []
  },
  {
   "cell_type": "code",
   "execution_count": null,
   "id": "0661fa48-09ea-480a-bc61-5a703b91a6f6",
   "metadata": {},
   "outputs": [],
   "source": []
  },
  {
   "cell_type": "code",
   "execution_count": null,
   "id": "3ef075af-ca4a-40a5-9d92-606ed61ebeb1",
   "metadata": {},
   "outputs": [],
   "source": []
  }
 ],
 "metadata": {
  "kernelspec": {
   "display_name": "Python 3 (ipykernel)",
   "language": "python",
   "name": "python3"
  },
  "language_info": {
   "codemirror_mode": {
    "name": "ipython",
    "version": 3
   },
   "file_extension": ".py",
   "mimetype": "text/x-python",
   "name": "python",
   "nbconvert_exporter": "python",
   "pygments_lexer": "ipython3",
   "version": "3.12.6"
  }
 },
 "nbformat": 4,
 "nbformat_minor": 5
}
