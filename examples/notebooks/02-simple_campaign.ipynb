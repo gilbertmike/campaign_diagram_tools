{
 "cells": [
  {
   "cell_type": "code",
   "execution_count": null,
   "id": "4ec120c0-8c1b-470c-a5a1-524fd77c7d02",
   "metadata": {},
   "outputs": [],
   "source": [
    "# Enable Debugging\n",
    "\n",
    "%load_ext autoreload\n",
    "%autoreload 2\n"
   ]
  },
  {
   "cell_type": "code",
   "execution_count": null,
   "id": "d3af20f2-bc85-4359-ac59-21267569d7fe",
   "metadata": {},
   "outputs": [],
   "source": [
    "import copy\n",
    "import sys\n",
    "import os\n",
    "\n",
    "sys.path.append(os.path.abspath(\"../../\"))\n",
    "from campaign_diagram import *"
   ]
  },
  {
   "cell_type": "code",
   "execution_count": null,
   "id": "a6614a26-41fa-44e3-a961-1f953c56095a",
   "metadata": {},
   "outputs": [],
   "source": [
    "# Example usage with multiple Kernel instances\n",
    "kernel1a = Kernel(name='EinsumA',\n",
    "                  start=0,\n",
    "                  duration=3,\n",
    "                  compute_util=0.7,\n",
    "                  bw_util=0.25)\n",
    "\n",
    "kernel1b = Kernel(name='EinsumB',\n",
    "                  start=kernel1a.end,\n",
    "                  duration=10,\n",
    "                  compute_util=0.2,\n",
    "                  bw_util=0.9)\n",
    "\n",
    "kernel1c = Kernel(name='EinsumC',\n",
    "                  start=kernel1b.end,\n",
    "                  duration=2,\n",
    "                  compute_util=0.6,\n",
    "                  bw_util=0.4)"
   ]
  },
  {
   "cell_type": "code",
   "execution_count": null,
   "id": "a7ef20c7-cc90-4cf1-940b-acc52ccd6d26",
   "metadata": {},
   "outputs": [],
   "source": [
    "# Create the plot with a list of kernel instances\n",
    "cascade1 = Cascade([kernel1a, kernel1b, kernel1c])\n",
    "\n",
    "cascade1.pretty_print()\n",
    "campaign_diagram1 = CampaignDiagram(cascade1)\n",
    "campaign_diagram1.draw()"
   ]
  },
  {
   "cell_type": "code",
   "execution_count": null,
   "id": "c98b7e30-6114-4835-9ee2-7b7d5e5382bc",
   "metadata": {},
   "outputs": [],
   "source": [
    "# Show replicated sequence\n",
    "\n",
    "kernel2a = Kernel(name='EinsumA',\n",
    "                  duration=3,\n",
    "                  compute_util=0.7,\n",
    "                  bw_util=0.25)\n",
    "\n",
    "kernel2b = Kernel(name='EinsumB',\n",
    "                  duration=10,\n",
    "                  compute_util=0.2,\n",
    "                  bw_util=0.9)\n",
    "\n",
    "kernels2 = [copy.copy(kernel) for kernel in 4*[kernel2a, kernel2b]]\n",
    "\n",
    "cascade2 = Cascade(kernels2, sequential=True)\n",
    "\n",
    "cascade2.pretty_print()\n",
    "campaign_diagram = CampaignDiagram(cascade2)\n",
    "campaign_diagram.draw()"
   ]
  },
  {
   "cell_type": "code",
   "execution_count": null,
   "id": "34b902f6-b136-4b16-b7ad-638a10e9aa29",
   "metadata": {},
   "outputs": [],
   "source": []
  },
  {
   "cell_type": "code",
   "execution_count": null,
   "id": "03a8a94d-8c62-44ea-807d-dfef92cf3268",
   "metadata": {},
   "outputs": [],
   "source": []
  }
 ],
 "metadata": {
  "kernelspec": {
   "display_name": "Python 3 (ipykernel)",
   "language": "python",
   "name": "python3"
  },
  "language_info": {
   "codemirror_mode": {
    "name": "ipython",
    "version": 3
   },
   "file_extension": ".py",
   "mimetype": "text/x-python",
   "name": "python",
   "nbconvert_exporter": "python",
   "pygments_lexer": "ipython3",
   "version": "3.12.6"
  }
 },
 "nbformat": 4,
 "nbformat_minor": 5
}
