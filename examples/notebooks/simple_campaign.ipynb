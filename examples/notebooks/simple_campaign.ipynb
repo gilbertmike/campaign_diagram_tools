{
 "cells": [
  {
   "cell_type": "code",
   "execution_count": null,
   "id": "c82fc172-9aed-4096-b22d-94ef0ec95d0e",
   "metadata": {},
   "outputs": [],
   "source": [
    "import copy\n",
    "\n",
    "from campaign_diagram import *\n",
    "\n",
    "if True:\n",
    "    # Example usage with multiple Kernel instances\n",
    "    kernel1a = Kernel(name='EinsumA',\n",
    "                     duration=3,\n",
    "                     compute_util=0.7,\n",
    "                     memory_util=0.25)\n",
    "\n",
    "    kernel1b = Kernel(name='EinsumB',\n",
    "                     duration=10,\n",
    "                     compute_util=0.2,\n",
    "                     memory_util=0.9)\n",
    "\n",
    "    kernel1c = Kernel(name='EinsumC',\n",
    "                     duration=2,\n",
    "                     compute_util=0.6,\n",
    "                     memory_util=0.4)\n",
    "\n",
    "\n",
    "\n",
    "    # Create the plot with a list of kernel instances\n",
    "    cascade1 = Cascade([kernel1a, kernel1b, kernel1c])\n",
    "    campaign_diagram1 = CampaignDiagram(cascade1)\n",
    "    campaign_diagram1.draw()\n",
    "\n",
    "\n",
    "    # Show tiled sequence\n",
    "\n",
    "    kernel2a = Kernel(name='EinsumA',\n",
    "                     duration=3,\n",
    "                     compute_util=0.7,\n",
    "                     memory_util=0.25)\n",
    "\n",
    "    kernel2b = Kernel(name='EinsumB',\n",
    "                     duration=10,\n",
    "                     compute_util=0.2,\n",
    "                     memory_util=0.9)\n",
    "\n",
    "    cascade2 = Cascade([copy.copy(kernel) for kernel in 4*[kernel2a, kernel2b]])\n",
    "    campaign_diagram = CampaignDiagram(cascade2)\n",
    "    campaign_diagram.draw()\n",
    "\n"
   ]
  },
  {
   "cell_type": "code",
   "execution_count": null,
   "id": "34b902f6-b136-4b16-b7ad-638a10e9aa29",
   "metadata": {},
   "outputs": [],
   "source": []
  }
 ],
 "metadata": {
  "kernelspec": {
   "display_name": "Python 3 (ipykernel)",
   "language": "python",
   "name": "python3"
  },
  "language_info": {
   "codemirror_mode": {
    "name": "ipython",
    "version": 3
   },
   "file_extension": ".py",
   "mimetype": "text/x-python",
   "name": "python",
   "nbconvert_exporter": "python",
   "pygments_lexer": "ipython3",
   "version": "3.12.6"
  }
 },
 "nbformat": 4,
 "nbformat_minor": 5
}
