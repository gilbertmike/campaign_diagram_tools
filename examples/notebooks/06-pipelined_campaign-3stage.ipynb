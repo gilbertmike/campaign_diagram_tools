{
 "cells": [
  {
   "cell_type": "code",
   "execution_count": null,
   "id": "b7c58e18-4828-427b-ba43-cc38f772b8c0",
   "metadata": {},
   "outputs": [],
   "source": [
    "# Enable Debugging\n",
    "\n",
    "%load_ext autoreload\n",
    "%autoreload 2"
   ]
  },
  {
   "cell_type": "code",
   "execution_count": null,
   "id": "4a3dbca5-8123-4d42-a62a-3cda3078061e",
   "metadata": {},
   "outputs": [],
   "source": [
    "#\n",
    "# Import the campaign diagram class\n",
    "#\n",
    "import sys\n",
    "import os\n",
    "\n",
    "sys.path.append(os.path.abspath(\"../../\"))\n",
    "from campaign_diagram import *\n"
   ]
  },
  {
   "cell_type": "code",
   "execution_count": null,
   "id": "a6f5429d-a02f-44fc-9f21-25dbf9640512",
   "metadata": {},
   "outputs": [],
   "source": [
    "# Define tiles for pipeline example\n",
    "\n",
    "repeat = 4\n",
    "\n",
    "kernel3a = Kernel(name='EinsumA',\n",
    "                  duration=5,\n",
    "                  compute_util=0.6,\n",
    "                  bw_util=0.15)\n",
    "\n",
    "\n",
    "kernel3b = Kernel(name='EinsumB',\n",
    "                  duration=10,\n",
    "                  compute_util=0.2,\n",
    "                  bw_util=0.6)\n",
    "\n",
    "\n",
    "kernel3c = Kernel(name='EinsumC',\n",
    "                  duration=5,\n",
    "                  compute_util=0.2,\n",
    "                  bw_util=0.25)\n",
    "\n",
    "original_cascade = Cascade([kernel3a, kernel3b, kernel3c])\n",
    "\n"
   ]
  },
  {
   "cell_type": "code",
   "execution_count": null,
   "id": "ddeb627f-fc35-4703-b8f6-146db8272c1a",
   "metadata": {},
   "outputs": [],
   "source": [
    "CampaignDiagram(original_cascade).draw()"
   ]
  },
  {
   "cell_type": "code",
   "execution_count": null,
   "id": "7c80e097-56a2-4751-8c2f-188519511076",
   "metadata": {},
   "outputs": [],
   "source": [
    "# Unpipelined processing\n",
    "\n",
    "tiled_cascade = original_cascade.split(repeat)\n",
    "CampaignDiagram(tiled_cascade).draw()"
   ]
  },
  {
   "cell_type": "code",
   "execution_count": null,
   "id": "d9b47392-e587-4b8e-8fee-c41eb63bb64a",
   "metadata": {},
   "outputs": [],
   "source": [
    "# Pipelined diagram (undilated)\n",
    "\n",
    "pipelined_cascade = tiled_cascade.pipeline(3)\n",
    "#print(f\"{pipelined_cascade}\")\n",
    "CampaignDiagram(pipelined_cascade).draw()"
   ]
  },
  {
   "cell_type": "code",
   "execution_count": null,
   "id": "19233b11-c1ff-4bce-9bd0-b7bedf273419",
   "metadata": {},
   "outputs": [],
   "source": [
    "# Pipelined diagram (dilated)\n",
    "\n",
    "pipelined_cascade2 = tiled_cascade.pipeline(stages=3, spread=True)\n",
    "#print(f\"{pipelinedcascade}\")\n",
    "    \n",
    "CampaignDiagram(pipelined_cascade2).draw()"
   ]
  },
  {
   "cell_type": "code",
   "execution_count": null,
   "id": "3ef075af-ca4a-40a5-9d92-606ed61ebeb1",
   "metadata": {},
   "outputs": [],
   "source": []
  },
  {
   "cell_type": "code",
   "execution_count": null,
   "id": "095d0932-fbdb-4244-b537-5c514413b061",
   "metadata": {},
   "outputs": [],
   "source": []
  }
 ],
 "metadata": {
  "kernelspec": {
   "display_name": "Python 3 (ipykernel)",
   "language": "python",
   "name": "python3"
  },
  "language_info": {
   "codemirror_mode": {
    "name": "ipython",
    "version": 3
   },
   "file_extension": ".py",
   "mimetype": "text/x-python",
   "name": "python",
   "nbconvert_exporter": "python",
   "pygments_lexer": "ipython3",
   "version": "3.12.6"
  }
 },
 "nbformat": 4,
 "nbformat_minor": 5
}
