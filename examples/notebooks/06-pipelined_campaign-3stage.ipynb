{
 "cells": [
  {
   "cell_type": "code",
   "execution_count": null,
   "id": "b7c58e18-4828-427b-ba43-cc38f772b8c0",
   "metadata": {},
   "outputs": [],
   "source": [
    "# Enable Debugging\n",
    "\n",
    "%load_ext autoreload\n",
    "%autoreload 2"
   ]
  },
  {
   "cell_type": "code",
   "execution_count": null,
   "id": "4a3dbca5-8123-4d42-a62a-3cda3078061e",
   "metadata": {},
   "outputs": [],
   "source": [
    "#\n",
    "# Import the campaign diagram class\n",
    "#\n",
    "import sys\n",
    "import os\n",
    "\n",
    "sys.path.append(os.path.abspath(\"../../\"))\n",
    "from campaign_diagram import *\n"
   ]
  },
  {
   "cell_type": "code",
   "execution_count": null,
   "id": "a6f5429d-a02f-44fc-9f21-25dbf9640512",
   "metadata": {},
   "outputs": [],
   "source": [
    "# Define tiles for pipeline example\n",
    "\n",
    "repeat = 4\n",
    "\n",
    "kernel3a = Kernel(name='EinsumA',\n",
    "                  start=0,\n",
    "                  duration=5,\n",
    "                  compute_util=0.3,\n",
    "                  bw_util=0.15)\n",
    "\n",
    "\n",
    "kernel3b = Kernel(name='EinsumB',\n",
    "                  start=kernel3a.end,\n",
    "                  duration=10,\n",
    "                  compute_util=0.2,\n",
    "                  bw_util=0.6)\n",
    "\n",
    "\n",
    "kernel3c = Kernel(name='EinsumC',\n",
    "                  start=kernel3b.end,\n",
    "                  duration=5,\n",
    "                  compute_util=0.5,   # was 0.2\n",
    "                  bw_util=0.25)\n",
    "\n",
    "original_cascade = Cascade(name=\"Three-step Cascade\",\n",
    "                           kernels=[kernel3a, kernel3b, kernel3c])\n",
    "\n"
   ]
  },
  {
   "cell_type": "code",
   "execution_count": null,
   "id": "ddeb627f-fc35-4703-b8f6-146db8272c1a",
   "metadata": {},
   "outputs": [],
   "source": [
    "CampaignDiagram(original_cascade).draw()"
   ]
  },
  {
   "cell_type": "code",
   "execution_count": null,
   "id": "7c80e097-56a2-4751-8c2f-188519511076",
   "metadata": {},
   "outputs": [],
   "source": [
    "# Unpipelined processing\n",
    "\n",
    "tiled_cascade = original_cascade.tile(repeat)\n",
    "CampaignDiagram(tiled_cascade).draw()"
   ]
  },
  {
   "cell_type": "code",
   "execution_count": null,
   "id": "d9b47392-e587-4b8e-8fee-c41eb63bb64a",
   "metadata": {},
   "outputs": [],
   "source": [
    "# Pipelined diagram (undilated)\n",
    "\n",
    "pipelined_cascade = tiled_cascade.pipeline(3)\n",
    "\n",
    "CampaignDiagram(pipelined_cascade).draw()"
   ]
  },
  {
   "cell_type": "code",
   "execution_count": null,
   "id": "8ffdf629-e8a8-4eb5-b666-d800a2a3e72e",
   "metadata": {},
   "outputs": [],
   "source": [
    "throttled_cascade = pipelined_cascade.throttle() \n",
    "   \n",
    "CampaignDiagram(throttled_cascade).draw()"
   ]
  },
  {
   "cell_type": "code",
   "execution_count": null,
   "id": "19233b11-c1ff-4bce-9bd0-b7bedf273419",
   "metadata": {},
   "outputs": [],
   "source": [
    "# Pipelined diagram (dilated)\n",
    "\n",
    "pipelined_cascade2 = tiled_cascade.pipeline(stages=3, spread=True)\n",
    "#print(f\"{pipelinedcascade}\")\n",
    "    \n",
    "CampaignDiagram(pipelined_cascade2).draw()"
   ]
  },
  {
   "cell_type": "markdown",
   "id": "d5b3d565-7a13-4469-b84b-fb20f7b06022",
   "metadata": {},
   "source": [
    "## Three stage pipeline that needs to be throttled\n"
   ]
  },
  {
   "cell_type": "code",
   "execution_count": null,
   "id": "095d0932-fbdb-4244-b537-5c514413b061",
   "metadata": {},
   "outputs": [],
   "source": [
    "# Define tiles for pipeline example\n",
    "\n",
    "repeat = 4\n",
    "\n",
    "kernel4a = Kernel(name='EinsumA',\n",
    "                  start=0,\n",
    "                  duration=5,\n",
    "                  compute_util=0.2,\n",
    "                  bw_util=0.8)\n",
    "\n",
    "\n",
    "kernel4b = Kernel(name='EinsumB',\n",
    "                  start=kernel4a.end,\n",
    "                  duration=10,\n",
    "                  compute_util=0.3,\n",
    "                  bw_util=0.6)\n",
    "\n",
    "\n",
    "kernel4c = Kernel(name='EinsumC',\n",
    "                  start=kernel4b.end,\n",
    "                  duration=5,\n",
    "                  compute_util=0.8,   # was 0.2\n",
    "                  bw_util=0.25)\n",
    "\n",
    "original_cascade4 = Cascade(name=\"Overloaded Cascade\",\n",
    "                            kernels=[kernel4a, kernel4b, kernel4c])\n",
    "\n"
   ]
  },
  {
   "cell_type": "code",
   "execution_count": null,
   "id": "c2f42eb6-1fc3-4578-8d4e-0c01ac56d3b3",
   "metadata": {},
   "outputs": [],
   "source": [
    "CampaignDiagram(original_cascade4).draw()"
   ]
  },
  {
   "cell_type": "code",
   "execution_count": null,
   "id": "bb540623-3ca2-4f16-9a22-70e7b6fdfc92",
   "metadata": {},
   "outputs": [],
   "source": [
    "# Unpipelined processing\n",
    "\n",
    "tiled_cascade4 = original_cascade4.tile(repeat)\n",
    "CampaignDiagram(tiled_cascade4).draw()"
   ]
  },
  {
   "cell_type": "code",
   "execution_count": null,
   "id": "9f9f7170-10b6-4174-a893-64f36c008db0",
   "metadata": {},
   "outputs": [],
   "source": [
    "# Pipelined diagram (undilated)\n",
    "\n",
    "pipelined_cascade4 = tiled_cascade4.pipeline(3)\n",
    "\n",
    "CampaignDiagram(pipelined_cascade4).draw()"
   ]
  },
  {
   "cell_type": "code",
   "execution_count": null,
   "id": "92f92e79-b6ab-4849-a6fb-297a98df3051",
   "metadata": {},
   "outputs": [],
   "source": [
    "CampaignDiagram(pipelined_cascade4.throttle()).draw()"
   ]
  },
  {
   "cell_type": "code",
   "execution_count": null,
   "id": "32da79f9-cdf6-4e8d-a73f-7ce7231bd480",
   "metadata": {},
   "outputs": [],
   "source": [
    "# Pipelined diagram (dilated)\n",
    "\n",
    "pipelined_cascade5 = tiled_cascade4.pipeline(3, spread=True)\n",
    "\n",
    "CampaignDiagram(pipelined_cascade5).draw()"
   ]
  },
  {
   "cell_type": "code",
   "execution_count": null,
   "id": "ce8c0821-a62e-41a5-b884-c42da4083e35",
   "metadata": {},
   "outputs": [],
   "source": [
    "CampaignDiagram(pipelined_cascade5.throttle()).draw()"
   ]
  },
  {
   "cell_type": "code",
   "execution_count": null,
   "id": "7b0cfebd-5ae0-4453-a2d9-9685740a0903",
   "metadata": {},
   "outputs": [],
   "source": []
  },
  {
   "cell_type": "code",
   "execution_count": null,
   "id": "f0098653-000d-4b57-b73e-2d7a6fc534eb",
   "metadata": {},
   "outputs": [],
   "source": []
  },
  {
   "cell_type": "code",
   "execution_count": null,
   "id": "b14ed69f-5322-42b9-9206-4827cc4191eb",
   "metadata": {},
   "outputs": [],
   "source": []
  }
 ],
 "metadata": {
  "kernelspec": {
   "display_name": "Python 3 (ipykernel)",
   "language": "python",
   "name": "python3"
  },
  "language_info": {
   "codemirror_mode": {
    "name": "ipython",
    "version": 3
   },
   "file_extension": ".py",
   "mimetype": "text/x-python",
   "name": "python",
   "nbconvert_exporter": "python",
   "pygments_lexer": "ipython3",
   "version": "3.12.6"
  }
 },
 "nbformat": 4,
 "nbformat_minor": 5
}
