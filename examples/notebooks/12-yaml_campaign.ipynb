{
 "cells": [
  {
   "cell_type": "code",
   "execution_count": null,
   "id": "4ec120c0-8c1b-470c-a5a1-524fd77c7d02",
   "metadata": {},
   "outputs": [],
   "source": [
    "# Enable Debugging\n",
    "\n",
    "%load_ext autoreload\n",
    "%autoreload 2\n"
   ]
  },
  {
   "cell_type": "code",
   "execution_count": null,
   "id": "d3af20f2-bc85-4359-ac59-21267569d7fe",
   "metadata": {},
   "outputs": [],
   "source": [
    "import copy\n",
    "import sys\n",
    "import os\n",
    "\n",
    "sys.path.append(os.path.abspath(\"../../\"))\n",
    "from campaign_diagram import *"
   ]
  },
  {
   "cell_type": "code",
   "execution_count": null,
   "id": "a7ef20c7-cc90-4cf1-940b-acc52ccd6d26",
   "metadata": {},
   "outputs": [],
   "source": [
    "# Create the plot with a list of kernel instances\n",
    "\n",
    "cascade1 = Cascade.fromYAML(\"./data/example-cascade.yaml\")\n",
    "\n",
    "cascade1.pretty_print()\n",
    "campaign_diagram1 = CampaignDiagram(cascade1)\n",
    "campaign_diagram1.draw()"
   ]
  },
  {
   "cell_type": "code",
   "execution_count": null,
   "id": "34b902f6-b136-4b16-b7ad-638a10e9aa29",
   "metadata": {},
   "outputs": [],
   "source": []
  },
  {
   "cell_type": "code",
   "execution_count": null,
   "id": "03a8a94d-8c62-44ea-807d-dfef92cf3268",
   "metadata": {},
   "outputs": [],
   "source": []
  }
 ],
 "metadata": {
  "kernelspec": {
   "display_name": "Python 3 (ipykernel)",
   "language": "python",
   "name": "python3"
  },
  "language_info": {
   "codemirror_mode": {
    "name": "ipython",
    "version": 3
   },
   "file_extension": ".py",
   "mimetype": "text/x-python",
   "name": "python",
   "nbconvert_exporter": "python",
   "pygments_lexer": "ipython3",
   "version": "3.12.6"
  }
 },
 "nbformat": 4,
 "nbformat_minor": 5
}
