{
 "cells": [
  {
   "cell_type": "code",
   "execution_count": null,
   "id": "2aa4cf46-53ab-4514-bb78-555a8de6cd66",
   "metadata": {},
   "outputs": [],
   "source": [
    "# Enable Debugging\n",
    "\n",
    "%load_ext autoreload\n",
    "%autoreload 2"
   ]
  },
  {
   "cell_type": "code",
   "execution_count": null,
   "id": "dfbdee4a-2763-47d1-baca-64341fb6b086",
   "metadata": {},
   "outputs": [],
   "source": [
    "import sys\n",
    "import os\n",
    "\n",
    "sys.path.append(os.path.abspath(\"../../\"))\n",
    "from campaign_diagram import *\n"
   ]
  },
  {
   "cell_type": "code",
   "execution_count": null,
   "id": "64f5944e-fdff-49bb-9b4b-fc9eeb8c5d24",
   "metadata": {},
   "outputs": [],
   "source": [
    "# Utility function\n",
    "\n",
    "def displayCascade(cascade, throttle=False):\n",
    "    \n",
    "    if throttle:\n",
    "        cascade = cascade.throttle()\n",
    "\n",
    "    print(\"\")\n",
    "    cascade.pretty_print()\n",
    "    print(\"\")\n",
    "    \n",
    "    # Display the kernels\n",
    "    CampaignDiagram(cascade).draw()\n"
   ]
  },
  {
   "cell_type": "code",
   "execution_count": null,
   "id": "b8782795-08e7-457c-94b9-13d42f31119d",
   "metadata": {},
   "outputs": [],
   "source": []
  },
  {
   "cell_type": "code",
   "execution_count": null,
   "id": "5412a5f5-bbac-4598-b7e0-2fdf93a3c6ed",
   "metadata": {},
   "outputs": [],
   "source": [
    "kernels1= [\n",
    "    Kernel(\"K01\", 0, 7, .50, .40),  # Kernel from time 0 to 5\n",
    "    Kernel(\"K02\", 2, 2, .40, .10),  # Kernel from time 3 to 10\n",
    "    Kernel(\"K03\", 3, 6, .60, .30),  # Kernel from time 2 to 8\n",
    "    Kernel(\"K04\", 8, 4, .40, .90),  # Kernel from time 1 to 5\n",
    "]\n",
    "\n",
    "cascade1 = Cascade(name=\"Simple Cascade\",\n",
    "                   kernels=kernels1)\n"
   ]
  },
  {
   "cell_type": "code",
   "execution_count": null,
   "id": "9381650c-e8fd-4e27-93c0-b597ddbc05eb",
   "metadata": {},
   "outputs": [],
   "source": [
    "displayCascade(cascade1, throttle=False)"
   ]
  },
  {
   "cell_type": "code",
   "execution_count": null,
   "id": "bbef6759-2111-422f-9b93-4b7db4ec88c0",
   "metadata": {},
   "outputs": [],
   "source": [
    "displayCascade(cascade1, throttle=True)"
   ]
  },
  {
   "cell_type": "code",
   "execution_count": null,
   "id": "e17da4df-040f-4818-bb60-a3092172b16b",
   "metadata": {},
   "outputs": [],
   "source": [
    "kernels = [\n",
    "    Kernel(\"K01\", 0, 5, .50, .40),  # Kernel from time 0 to 5\n",
    "    Kernel(\"K02\", 1, 4, .40, .90),  # Kernel from time 1 to 5\n",
    "    Kernel(\"K03\", 2, 6, .60, .30),  # Kernel from time 2 to 8\n",
    "    Kernel(\"K04\", 3, 2, .60, .25),   # Kernel from time 3 to 5\n",
    "    Kernel(\"K05\", 3, 7, .40, .10),  # Kernel from time 3 to 10\n",
    "    Kernel(\"K06\", 4, 2, .40, .25),  # Kernel from time 4 to 6\n",
    "    Kernel(\"K07\", 5, 3, .80, .40),  # Kernel from time 5 to 8\n",
    "    Kernel(\"K08\", 6, 2, .65, .35),  # Kernel from time 6 to 8\n",
    "    Kernel(\"K09\", 7, 3, .55, .22),  # Kernel from time 7 to 10\n",
    "    Kernel(\"K10\", 8, 4, .50, .20),  # Kernel from time 8 to 12\n",
    "    Kernel(\"K11\", 9, 3, .30, .0),   # Kernel from time 9 to 12\n",
    "    Kernel(\"K12\", 10, 5,.60, .30)  # Kernel from time 10 to 15\n",
    "]\n",
    "\n",
    "# Instantiate Intervals class, which automatically groups kernels into intervals\n",
    "cascade2 = Cascade(name=\"Random Cascade\",\n",
    "                   kernels=kernels)\n"
   ]
  },
  {
   "cell_type": "code",
   "execution_count": null,
   "id": "9ca3af14-36d7-41af-b39e-8613c3ed0890",
   "metadata": {},
   "outputs": [],
   "source": [
    "print(\"Unthrottled kernels\")\n",
    "\n",
    "displayCascade(cascade2, throttle=False)\n",
    "\n"
   ]
  },
  {
   "cell_type": "code",
   "execution_count": null,
   "id": "953f5f9c-47b3-41c1-8ca8-59f48c1fee10",
   "metadata": {},
   "outputs": [],
   "source": [
    "print(\"Throttled kernels\")\n",
    "\n",
    "displayCascade(cascade2, throttle=True)\n"
   ]
  },
  {
   "cell_type": "code",
   "execution_count": null,
   "id": "20f8b417-930e-4751-8a97-049395a2aa7c",
   "metadata": {},
   "outputs": [],
   "source": []
  }
 ],
 "metadata": {
  "kernelspec": {
   "display_name": "Python 3 (ipykernel)",
   "language": "python",
   "name": "python3"
  },
  "language_info": {
   "codemirror_mode": {
    "name": "ipython",
    "version": 3
   },
   "file_extension": ".py",
   "mimetype": "text/x-python",
   "name": "python",
   "nbconvert_exporter": "python",
   "pygments_lexer": "ipython3",
   "version": "3.12.6"
  }
 },
 "nbformat": 4,
 "nbformat_minor": 5
}
